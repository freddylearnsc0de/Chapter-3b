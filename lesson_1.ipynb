{
 "cells": [
  {
   "cell_type": "code",
   "execution_count": 1,
   "metadata": {},
   "outputs": [
    {
     "name": "stdout",
     "output_type": "stream",
     "text": [
      "[0, 1, 2, 3, 4, 5, 6, 7, 8, 9]\n"
     ]
    }
   ],
   "source": [
    " # generate a list of numbers from 0 to 9\n",
    "# and print the list\n",
    "numbers = list(range(10))\n",
    "print(numbers)\n"
   ]
  },
  {
   "cell_type": "code",
   "execution_count": 4,
   "metadata": {},
   "outputs": [
    {
     "name": "stdout",
     "output_type": "stream",
     "text": [
      "[0.5259981268015662, 0.46488140673871614, 0.01622399106422301, 0.49051510299366785, 0.7081581946592671, 0.4001622709332463, 0.5385862775452359, 0.34034020219058214, 0.7578790290703813, 0.9759174154052856]\n"
     ]
    }
   ],
   "source": [
    "import random \n",
    "# create a liist of 10 random numbers in the range of 0 to 1\n",
    "list_1 = [random.random() for i in range(10)]\n",
    "# print the list\n",
    "print(list_1)"
   ]
  },
  {
   "cell_type": "code",
   "execution_count": 5,
   "metadata": {},
   "outputs": [
    {
     "name": "stdout",
     "output_type": "stream",
     "text": [
      "[0.9930630644555949, 0.972679039453702, 0.793710391249628, 0.32758221407978716, 0.11610183670584273, 0.9076490269674764, 0.641992085692839, 0.46064208749171576, 0.7605019663263847, 0.22603423858228622]\n"
     ]
    }
   ],
   "source": [
    "# create a list of 10 random numbers in the range of 1 to 1\n",
    "list_2 = [random.random() for i in range(10)]\n",
    "# print the list\n",
    "print(list_2)\n"
   ]
  },
  {
   "cell_type": "code",
   "execution_count": 6,
   "metadata": {},
   "outputs": [
    {
     "name": "stdout",
     "output_type": "stream",
     "text": [
      "[0.5259981268015662, 0.46488140673871614, 0.01622399106422301, 0.49051510299366785, 0.7081581946592671, 0.4001622709332463, 0.5385862775452359, 0.34034020219058214, 0.7578790290703813, 0.9759174154052856, 0.9930630644555949, 0.972679039453702, 0.793710391249628, 0.32758221407978716, 0.11610183670584273, 0.9076490269674764, 0.641992085692839, 0.46064208749171576, 0.7605019663263847, 0.22603423858228622]\n"
     ]
    }
   ],
   "source": [
    "# Combine list 1 and list 2 and call ist list_all\n",
    "list_all = list_1 + list_2\n",
    "# print the list\n",
    "print(list_all)"
   ]
  },
  {
   "cell_type": "code",
   "execution_count": 7,
   "metadata": {},
   "outputs": [
    {
     "name": "stdout",
     "output_type": "stream",
     "text": [
      "20\n"
     ]
    }
   ],
   "source": [
    "# confirm that list_all has 20 elements\n",
    "print(len(list_all))"
   ]
  },
  {
   "cell_type": "code",
   "execution_count": 11,
   "metadata": {},
   "outputs": [
    {
     "name": "stdout",
     "output_type": "stream",
     "text": [
      "[2, 10, 9, 1, 8, 7, 5, 1, 3, 8]\n"
     ]
    }
   ],
   "source": [
    "# generate a random numbers between 0 and 10\n",
    "random_numbers = [random.randint(0, 10) for i in range(10)]\n",
    "print(random_numbers)"
   ]
  },
  {
   "cell_type": "code",
   "execution_count": null,
   "metadata": {},
   "outputs": [],
   "source": [
    "# create a list whose values are the names of the days of the week\n",
    "days_of_week = [\"Sunday\", \"Monday\", \"Tuesday\", \"Wednesday\", \"Thursday\", \"Friday\", \"Saturday\"]\n",
    "\n",
    "# print the list\n",
    "print(days_of_week)\n",
    "\n",
    "# create a list whose values are the names of the months of the year\n",
    "months_of_year = [\"January\", \"February\", \"March\", \"April\", \"May\", \"June\", \"July\", \"August\", \"September\", \"October\", \"November\", \"December\"]\n",
    "\n",
    "# print the list\n",
    "print(months_of_year)\n",
    "\n",
    "# create a list whose values are  the names of the seasons\n",
    "seasons = [\"Spring\", \"Summer\", \"Fall\", \"Winter\"]\n",
    "\n",
    "# print the list\n",
    "print(seasons)\n",
    "\n",
    "# create a list whose values are the names of the planets\n",
    "planets = [\"Mercury\", \"Venus\", \"Earth\", \"Mars\", \"Jupiter\", \"Saturn\", \"Uranus\", \"Neptune\"]\n",
    "\n",
    "# print the list\n",
    "print(planets)\n",
    "\n"
   ]
  }
 ],
 "metadata": {
  "kernelspec": {
   "display_name": "base",
   "language": "python",
   "name": "python3"
  },
  "language_info": {
   "codemirror_mode": {
    "name": "ipython",
    "version": 3
   },
   "file_extension": ".py",
   "mimetype": "text/x-python",
   "name": "python",
   "nbconvert_exporter": "python",
   "pygments_lexer": "ipython3",
   "version": "3.12.4"
  }
 },
 "nbformat": 4,
 "nbformat_minor": 2
}
